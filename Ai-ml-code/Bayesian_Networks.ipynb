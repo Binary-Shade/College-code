{
  "nbformat": 4,
  "nbformat_minor": 0,
  "metadata": {
    "colab": {
      "provenance": []
    },
    "kernelspec": {
      "name": "python3",
      "display_name": "Python 3"
    },
    "language_info": {
      "name": "python"
    }
  },
  "cells": [
    {
      "cell_type": "code",
      "execution_count": null,
      "metadata": {
        "id": "o1ttBut0Fgab"
      },
      "outputs": [],
      "source": [
        "!pip install pomegranate"
      ]
    },
    {
      "cell_type": "code",
      "source": [
        "#Import required packages\n",
        "import math\n",
        "from pomegranate import *\n",
        " \n",
        "# Initially the door selected by the guest is completely random\n",
        "guest =DiscreteDistribution( { 'A': 1./3, 'B': 1./3, 'C': 1./3 } )\n",
        " \n",
        "# The door containing the prize is also a random process\n",
        "prize =DiscreteDistribution( { 'A': 1./3, 'B': 1./3, 'C': 1./3 } )\n",
        " \n",
        "# The door Monty picks, depends on the choice of the guest and the prize door\n",
        "monty =ConditionalProbabilityTable(\n",
        "[[ 'A', 'A', 'A', 0.0 ],\n",
        "[ 'A', 'A', 'B', 0.5 ],\n",
        "[ 'A', 'A', 'C', 0.5 ],\n",
        "[ 'A', 'B', 'A', 0.0 ],\n",
        "[ 'A', 'B', 'B', 0.0 ],\n",
        "[ 'A', 'B', 'C', 1.0 ],\n",
        "[ 'A', 'C', 'A', 0.0 ],\n",
        "[ 'A', 'C', 'B', 1.0 ],\n",
        "[ 'A', 'C', 'C', 0.0 ],\n",
        "[ 'B', 'A', 'A', 0.0 ],\n",
        "[ 'B', 'A', 'B', 0.0 ],\n",
        "[ 'B', 'A', 'C', 1.0 ],\n",
        "[ 'B', 'B', 'A', 0.5 ],\n",
        "[ 'B', 'B', 'B', 0.0 ],\n",
        "[ 'B', 'B', 'C', 0.5 ],\n",
        "[ 'B', 'C', 'A', 1.0 ],\n",
        "[ 'B', 'C', 'B', 0.0 ],\n",
        "[ 'B', 'C', 'C', 0.0 ],\n",
        "[ 'C', 'A', 'A', 0.0 ],\n",
        "[ 'C', 'A', 'B', 1.0 ],\n",
        "[ 'C', 'A', 'C', 0.0 ],\n",
        "[ 'C', 'B', 'A', 1.0 ],\n",
        "[ 'C', 'B', 'B', 0.0 ],\n",
        "[ 'C', 'B', 'C', 0.0 ],\n",
        "[ 'C', 'C', 'A', 0.5 ],\n",
        "[ 'C', 'C', 'B', 0.5 ],\n",
        "[ 'C', 'C', 'C', 0.0 ]], [guest, prize] )\n",
        " \n",
        "d1 = State( guest, name=\"guest\" )\n",
        "d2 = State( prize, name=\"prize\" )\n",
        "d3 = State( monty, name=\"monty\" )\n",
        " \n",
        "#Building the Bayesian Network\n",
        "network = BayesianNetwork( \"Solving the Monty Hall Problem With Bayesian Networks\" )\n",
        "network.add_states(d1, d2, d3)\n",
        "network.add_edge(d1, d3)\n",
        "network.add_edge(d2, d3)\n",
        "network.bake()"
      ],
      "metadata": {
        "id": "g0BHSIgjFkpG"
      },
      "execution_count": 2,
      "outputs": []
    },
    {
      "cell_type": "code",
      "source": [
        "beliefs = network.predict_proba({ 'guest' : 'A' })\n",
        "beliefs = map(str, beliefs)\n",
        "print(\"n\".join( \"{}t{}\".format( state.name, belief ) for state, belief in zip( network.states, beliefs ) ))\n",
        " "
      ],
      "metadata": {
        "colab": {
          "base_uri": "https://localhost:8080/"
        },
        "id": "PRmLFAraFngn",
        "outputId": "0ee3f2b3-a74e-4f5b-c8ef-b73a7d47ae7e"
      },
      "execution_count": 3,
      "outputs": [
        {
          "output_type": "stream",
          "name": "stdout",
          "text": [
            "guesttAnprizet{\n",
            "    \"class\" : \"Distribution\",\n",
            "    \"dtype\" : \"str\",\n",
            "    \"name\" : \"DiscreteDistribution\",\n",
            "    \"parameters\" : [\n",
            "        {\n",
            "            \"A\" : 0.3333333333333333,\n",
            "            \"B\" : 0.3333333333333333,\n",
            "            \"C\" : 0.3333333333333333\n",
            "        }\n",
            "    ],\n",
            "    \"frozen\" : false\n",
            "}nmontyt{\n",
            "    \"class\" : \"Distribution\",\n",
            "    \"dtype\" : \"str\",\n",
            "    \"name\" : \"DiscreteDistribution\",\n",
            "    \"parameters\" : [\n",
            "        {\n",
            "            \"B\" : 0.49999999999999994,\n",
            "            \"C\" : 0.49999999999999994,\n",
            "            \"A\" : 0.0\n",
            "        }\n",
            "    ],\n",
            "    \"frozen\" : false\n",
            "}\n"
          ]
        }
      ]
    },
    {
      "cell_type": "code",
      "source": [
        "beliefs = network.predict_proba({'guest' : 'A', 'monty' : 'B'})\n",
        "print(\"n\".join( \"{}t{}\".format( state.name, str(belief) ) for state, belief in zip( network.states, beliefs )))\n",
        " "
      ],
      "metadata": {
        "colab": {
          "base_uri": "https://localhost:8080/"
        },
        "id": "TF-cFWLqFo3H",
        "outputId": "dd478162-3a31-48a4-8ff1-55fb6ad0c3e4"
      },
      "execution_count": 4,
      "outputs": [
        {
          "output_type": "stream",
          "name": "stdout",
          "text": [
            "guesttAnprizet{\n",
            "    \"class\" : \"Distribution\",\n",
            "    \"dtype\" : \"str\",\n",
            "    \"name\" : \"DiscreteDistribution\",\n",
            "    \"parameters\" : [\n",
            "        {\n",
            "            \"A\" : 0.3333333333333334,\n",
            "            \"B\" : 0.0,\n",
            "            \"C\" : 0.6666666666666664\n",
            "        }\n",
            "    ],\n",
            "    \"frozen\" : false\n",
            "}nmontytB\n"
          ]
        }
      ]
    },
    {
      "cell_type": "code",
      "source": [],
      "metadata": {
        "id": "gIAvgdcWFtjV"
      },
      "execution_count": null,
      "outputs": []
    }
  ]
}